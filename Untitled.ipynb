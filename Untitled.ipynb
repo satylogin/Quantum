{
 "cells": [
  {
   "cell_type": "code",
   "execution_count": 36,
   "metadata": {},
   "outputs": [
    {
     "name": "stdout",
     "output_type": "stream",
     "text": [
      "/snippet_.qs(4,42): warning QS3002: Deprecated syntax. Use the type name \"Unit\" instead.\n",
      "/snippet_.qs(2,6): warning QS6003: The namespace is already open.\n",
      "/snippet_.qs(5,9): warning QS3003: Deprecated syntax. An argument tuple is expected where \"...\" indicates the position of the declaration arguments, e.g. \"(...)\" for body and adjoint, \"(cs, ...)\" for controlled and controlled adjoint.\n",
      "/snippet_.qs(7,13): warning QS5003: Microsoft.Quantum.Primitive.X has been deprecated. Please use Microsoft.Quantum.Intrinsic.X instead.\n",
      "/snippet_.qs(9,9): warning QS5003: Microsoft.Quantum.Primitive.H has been deprecated. Please use Microsoft.Quantum.Intrinsic.H instead.\n"
     ]
    },
    {
     "data": {
      "application/json": "[\"Solve\"]",
      "text/html": [
       "<ul><li>Solve</li></ul>"
      ],
      "text/plain": [
       "Solve"
      ]
     },
     "execution_count": 36,
     "metadata": {},
     "output_type": "execute_result"
    }
   ],
   "source": [
    "open Microsoft.Quantum.Primitive;\n",
    "open Microsoft.Quantum.Canon;\n",
    "\n",
    "operation Solve(q : Qubit, sign : Int) : () {\n",
    "    body {\n",
    "        if (sign == -1) {\n",
    "            Microsoft.Quantum.Primitive.X(q);\n",
    "        }\n",
    "        Microsoft.Quantum.Primitive.H(q);\n",
    "    }\n",
    "}"
   ]
  },
  {
   "cell_type": "code",
   "execution_count": 45,
   "metadata": {},
   "outputs": [
    {
     "name": "stdout",
     "output_type": "stream",
     "text": [
      "/snippet_.qs(2,9): warning QS3003: Deprecated syntax. An argument tuple is expected where \"...\" indicates the position of the declaration arguments, e.g. \"(...)\" for body and adjoint, \"(cs, ...)\" for controlled and controlled adjoint.\n"
     ]
    },
    {
     "data": {
      "application/json": "[\"Test\"]",
      "text/html": [
       "<ul><li>Test</li></ul>"
      ],
      "text/plain": [
       "Test"
      ]
     },
     "execution_count": 45,
     "metadata": {},
     "output_type": "execute_result"
    }
   ],
   "source": [
    "operation Test(): (Int) {\n",
    "    body {\n",
    "        let sign = 1;\n",
    "        let count = 100;\n",
    "        mutable zeros = 0;\n",
    "        using (qubits = Qubit[1]) {\n",
    "            for (test in 1..count) {\n",
    "                Solve(qubits[0], sign);\n",
    "                let result = M(qubits[0]);\n",
    "                if (result == Zero) {\n",
    "                    set zeros = zeros + 1;\n",
    "                }\n",
    "                Reset(qubits[0]);\n",
    "            }\n",
    "        }\n",
    "        \n",
    "        return zeros;\n",
    "    }\n",
    "}"
   ]
  },
  {
   "cell_type": "code",
   "execution_count": 46,
   "metadata": {},
   "outputs": [
    {
     "data": {
      "application/json": "53",
      "text/plain": [
       "53"
      ]
     },
     "execution_count": 46,
     "metadata": {},
     "output_type": "execute_result"
    }
   ],
   "source": [
    "%simulate Test"
   ]
  },
  {
   "cell_type": "code",
   "execution_count": null,
   "metadata": {},
   "outputs": [],
   "source": []
  }
 ],
 "metadata": {
  "kernelspec": {
   "display_name": "Q#",
   "language": "qsharp",
   "name": "iqsharp"
  },
  "language_info": {
   "file_extension": ".qs",
   "mimetype": "text/x-qsharp",
   "name": "qsharp",
   "version": "0.10"
  }
 },
 "nbformat": 4,
 "nbformat_minor": 4
}
